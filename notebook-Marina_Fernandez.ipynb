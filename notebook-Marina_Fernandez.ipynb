{
 "cells": [
  {
   "cell_type": "markdown",
   "metadata": {
    "deletable": true,
    "editable": true
   },
   "source": [
    "## NOMBRE: "
   ]
  },
  {
   "cell_type": "markdown",
   "metadata": {
    "deletable": true,
    "editable": true
   },
   "source": [
    "# PEC1 ARS - NetworkX\n",
    "\n",
    "El objetivo de esta PEC es que demostréis que sois capaces de utilizar NetworkX para un caso pequeño pero real.\n",
    "\n",
    "El club de kárate de Zachary es una conocida red social cuyos datos proceden de un club universitario de kárate descrito en el documento \"Un modelo de flujo de información para conflictos y fisión en grupos pequeños\". \n",
    "\n",
    "**Zachary, W. (1977). An information flow model for conflict and fission in small groups, Journal of Anthropological Research 33, 452-473.** \n",
    "\n",
    "(En caso de resultar de interés, el paper se puede leer [aquí](http://www1.ind.ku.dk/complexLearning/zachary1977.pdf))\n",
    "\n",
    "Zachary estudió durante tres años (de 1970 a 1972) la actividad social de los miembros del club, documentando las interacciones de dichos miembros fuera de las clases de kárate y considerando que aquellos miembros que consistentemente asistían a eventos sociales no relacionados con el club podían ser considerados amigos. La red se establece, por tanto, como una red de amistad (vértices) entre los miembros del club (nodos).\n",
    "\n",
    "Lo relevante de esta comunidad, y por lo que resulta un caso famoso de estudio antropológico mediante el análisis de redes sociales, es que durante el estudio surgió un conflicto entre el administrador \"John A\" y el instructor \"Mr. Hi\" (seudónimos) por los precios de las clases de kárate. Esto condujo a la división del club en dos: La mitad de los miembros formaron un nuevo club alrededor del Sr. Hi; mientras que los miembros de la otra parte encontraron un nuevo instructor o abandonaron la práctica del kárate. Zachary uso el análisis de redes sociales para predecir la decisión final de cada miembro (abandonar el club o continuar en él con otro instructor), acertando en todos los casos menos en uno. Se adjunta el estudio original de Zachary a la documentación de la práctica por si resultase de utilidad o necesitase completar el contexto del mismo.\n",
    "\n",
    "# EJERCICIOS\n",
    "\n",
    "# 1. Cargar la red social del club de kárate (1 punto)\n",
    "\n",
    "Pista: buscad entre los generadores de NetworkX.\n"
   ]
  },
  {
   "cell_type": "code",
   "execution_count": 12,
   "metadata": {
    "collapsed": false,
    "deletable": true,
    "editable": true
   },
   "outputs": [],
   "source": [
    "import matplotlib.pyplot as plt\n",
    "import networkx as nx\n",
    "G = nx.karate_club_graph()\n",
    "\n",
    "# G = BUSCAD EL GENERADOR DE NETWORKX PARA EL CLUB DE KARATE"
   ]
  },
  {
   "cell_type": "markdown",
   "metadata": {
    "deletable": true,
    "editable": true
   },
   "source": [
    "# 2. Dibujar la red social del club de kárate  (1 punto)"
   ]
  },
  {
   "cell_type": "code",
   "execution_count": 3,
   "metadata": {
    "collapsed": false,
    "deletable": true,
    "editable": true
   },
   "outputs": [
    {
     "ename": "NameError",
     "evalue": "name 'nx' is not defined",
     "output_type": "error",
     "traceback": [
      "\u001b[1;31m---------------------------------------------------------------------------\u001b[0m",
      "\u001b[1;31mNameError\u001b[0m                                 Traceback (most recent call last)",
      "\u001b[1;32m<ipython-input-3-63822f591542>\u001b[0m in \u001b[0;36m<module>\u001b[1;34m()\u001b[0m\n\u001b[1;32m----> 1\u001b[1;33m \u001b[0mnx\u001b[0m\u001b[1;33m.\u001b[0m\u001b[0mdraw\u001b[0m\u001b[1;33m(\u001b[0m\u001b[0mG\u001b[0m\u001b[1;33m,\u001b[0m \u001b[0mwith_labels\u001b[0m\u001b[1;33m=\u001b[0m\u001b[1;32mTrue\u001b[0m\u001b[1;33m)\u001b[0m\u001b[1;33m\u001b[0m\u001b[0m\n\u001b[0m\u001b[0;32m      2\u001b[0m \u001b[0mplt\u001b[0m\u001b[1;33m.\u001b[0m\u001b[0mshow\u001b[0m\u001b[1;33m(\u001b[0m\u001b[1;33m)\u001b[0m\u001b[1;33m\u001b[0m\u001b[0m\n",
      "\u001b[1;31mNameError\u001b[0m: name 'nx' is not defined"
     ]
    }
   ],
   "source": [
    "nx.draw(G, with_labels=True)\n",
    "plt.show()"
   ]
  },
  {
   "cell_type": "markdown",
   "metadata": {
    "deletable": true,
    "editable": true
   },
   "source": [
    "# 3. Datos básicos (1 punto)\n",
    "1. Número de nodos y número de aristas.\n",
    "2. Densidad.\n",
    "3. Diámetro.\n",
    "4. Grado máximo, mínimo y promedio."
   ]
  },
  {
   "cell_type": "code",
   "execution_count": 75,
   "metadata": {
    "collapsed": false,
    "deletable": true,
    "editable": true
   },
   "outputs": [
    {
     "name": "stdout",
     "output_type": "stream",
     "text": [
      "1.El número de nodos es 34 y el de aristas de 78.\n",
      "2.La densidad es de 0.13903743315508021.\n",
      "3.El diámetro es de 5.\n",
      "4.El grado máximo es 17 , el mínimo 1 y la media 4.588235294117647.\n"
     ]
    }
   ],
   "source": [
    "print(f'1.El número de nodos es {len(G.nodes)} y el de aristas de {len(G.edges)}.')\n",
    "print(f'2.La densidad es de {nx.density(G)}.')\n",
    "print(f'3.El diámetro es de {nx.diameter(G)}.')\n",
    "grados=[]\n",
    "suma = 0\n",
    "for i in range(len(G.nodes)):\n",
    "    lista = nx.degree(G,i)\n",
    "    grados.append(lista)\n",
    "    suma += lista\n",
    "grado_max = max(grados)\n",
    "grado_min = min(grados)\n",
    "grado_med = suma/len(G.nodes)\n",
    "print(f'4.El grado máximo es {grado_max} , el mínimo {grado_min} y la media {grado_med}.')\n"
   ]
  },
  {
   "cell_type": "code",
   "execution_count": 77,
   "metadata": {
    "collapsed": false,
    "deletable": true,
    "editable": true
   },
   "outputs": [
    {
     "data": {
      "text/plain": [
       "DegreeView({0: 16, 1: 9, 2: 10, 3: 6, 4: 3, 5: 4, 6: 4, 7: 4, 8: 5, 9: 2, 10: 3, 11: 1, 12: 2, 13: 5, 14: 2, 15: 2, 16: 2, 17: 2, 18: 2, 19: 3, 20: 2, 21: 2, 22: 2, 23: 5, 24: 3, 25: 3, 26: 2, 27: 4, 28: 3, 29: 4, 30: 4, 31: 6, 32: 12, 33: 17})"
      ]
     },
     "execution_count": 77,
     "metadata": {},
     "output_type": "execute_result"
    }
   ],
   "source": [
    "(G.degree())"
   ]
  },
  {
   "cell_type": "code",
   "execution_count": 74,
   "metadata": {
    "collapsed": false,
    "deletable": true,
    "editable": true
   },
   "outputs": [
    {
     "data": {
      "text/plain": [
       "[(33, 17),\n",
       " (0, 16),\n",
       " (32, 12),\n",
       " (2, 10),\n",
       " (1, 9),\n",
       " (3, 6),\n",
       " (31, 6),\n",
       " (8, 5),\n",
       " (13, 5),\n",
       " (23, 5),\n",
       " (5, 4),\n",
       " (6, 4),\n",
       " (7, 4),\n",
       " (27, 4),\n",
       " (29, 4),\n",
       " (30, 4),\n",
       " (4, 3),\n",
       " (10, 3),\n",
       " (19, 3),\n",
       " (24, 3),\n",
       " (25, 3),\n",
       " (28, 3),\n",
       " (9, 2),\n",
       " (12, 2),\n",
       " (14, 2),\n",
       " (15, 2),\n",
       " (16, 2),\n",
       " (17, 2),\n",
       " (18, 2),\n",
       " (20, 2),\n",
       " (21, 2),\n",
       " (22, 2),\n",
       " (26, 2),\n",
       " (11, 1)]"
      ]
     },
     "execution_count": 74,
     "metadata": {},
     "output_type": "execute_result"
    }
   ],
   "source": [
    "sorted(G.degree, key=lambda x: x[1], reverse=True)"
   ]
  },
  {
   "cell_type": "markdown",
   "metadata": {
    "deletable": true,
    "editable": true
   },
   "source": [
    "# 4. Identifica al instructor y al administrador. (1 punto)\n",
    "\n",
    "Son los dos nodos de mayor grado."
   ]
  },
  {
   "cell_type": "code",
   "execution_count": null,
   "metadata": {
    "collapsed": true,
    "deletable": true,
    "editable": true
   },
   "outputs": [],
   "source": [
    "#Gracias a haber ordenador mis nodos y sus grados por el orden descenciente de los grados de estos, \n",
    "# podemos concluir que el instructor y el administrador corresponden al nodo 33 y al nodo 0."
   ]
  },
  {
   "cell_type": "markdown",
   "metadata": {
    "deletable": true,
    "editable": true
   },
   "source": [
    "# 5. Vuelve a dibujar el grafo pero, esta vez, resaltando los nodos del instructor y del administrador. (1 punto)\n",
    "\n",
    "(Es suficiente con que tengan un color distinto, por ejemplo)"
   ]
  },
  {
   "cell_type": "code",
   "execution_count": 95,
   "metadata": {
    "collapsed": false,
    "deletable": true,
    "editable": true
   },
   "outputs": [
    {
     "data": {
      "image/png": "[encoded data removed]",
      "text/plain": [
       "<Figure size 432x288 with 1 Axes>"
      ]
     },
     "metadata": {},
     "output_type": "display_data"
    }
   ],
   "source": [
    "color_map = []\n",
    "for node in G:\n",
    "    if node == 0 or node == 33 :\n",
    "        color_map.append('pink')\n",
    "    else :\n",
    "        color_map.append('purple')\n",
    "         \n",
    "nx.draw(G, node_color=color_map, with_labels=True)\n",
    "plt.show()\n"
   ]
  },
  {
   "cell_type": "markdown",
   "metadata": {
    "deletable": true,
    "editable": true
   },
   "source": [
    "# 6. Calcula la centralidad de cercanía (closeness) y de intermediación (betweenness). (1 punto)"
   ]
  },
  {
   "cell_type": "code",
   "execution_count": 100,
   "metadata": {
    "collapsed": false,
    "deletable": true,
    "editable": true
   },
   "outputs": [
    {
     "data": {
      "text/plain": [
       "{0: 0.5689655172413793,\n",
       " 1: 0.4852941176470588,\n",
       " 2: 0.559322033898305,\n",
       " 3: 0.4647887323943662,\n",
       " 4: 0.3793103448275862,\n",
       " 5: 0.38372093023255816,\n",
       " 6: 0.38372093023255816,\n",
       " 7: 0.44,\n",
       " 8: 0.515625,\n",
       " 9: 0.4342105263157895,\n",
       " 10: 0.3793103448275862,\n",
       " 11: 0.36666666666666664,\n",
       " 12: 0.3707865168539326,\n",
       " 13: 0.515625,\n",
       " 14: 0.3707865168539326,\n",
       " 15: 0.3707865168539326,\n",
       " 16: 0.28448275862068967,\n",
       " 17: 0.375,\n",
       " 18: 0.3707865168539326,\n",
       " 19: 0.5,\n",
       " 20: 0.3707865168539326,\n",
       " 21: 0.375,\n",
       " 22: 0.3707865168539326,\n",
       " 23: 0.39285714285714285,\n",
       " 24: 0.375,\n",
       " 25: 0.375,\n",
       " 26: 0.3626373626373626,\n",
       " 27: 0.4583333333333333,\n",
       " 28: 0.4520547945205479,\n",
       " 29: 0.38372093023255816,\n",
       " 30: 0.4583333333333333,\n",
       " 31: 0.5409836065573771,\n",
       " 32: 0.515625,\n",
       " 33: 0.55}"
      ]
     },
     "execution_count": 100,
     "metadata": {},
     "output_type": "execute_result"
    }
   ],
   "source": [
    "nx.closeness_centrality(G)"
   ]
  },
  {
   "cell_type": "code",
   "execution_count": 97,
   "metadata": {
    "collapsed": false,
    "deletable": true,
    "editable": true
   },
   "outputs": [
    {
     "data": {
      "text/plain": [
       "{0: 0.43763528138528146,\n",
       " 1: 0.053936688311688304,\n",
       " 2: 0.14365680615680618,\n",
       " 3: 0.011909271284271283,\n",
       " 4: 0.0006313131313131313,\n",
       " 5: 0.02998737373737374,\n",
       " 6: 0.029987373737373736,\n",
       " 7: 0.0,\n",
       " 8: 0.05592682780182781,\n",
       " 9: 0.0008477633477633478,\n",
       " 10: 0.0006313131313131313,\n",
       " 11: 0.0,\n",
       " 12: 0.0,\n",
       " 13: 0.04586339586339586,\n",
       " 14: 0.0,\n",
       " 15: 0.0,\n",
       " 16: 0.0,\n",
       " 17: 0.0,\n",
       " 18: 0.0,\n",
       " 19: 0.03247504810004811,\n",
       " 20: 0.0,\n",
       " 21: 0.0,\n",
       " 22: 0.0,\n",
       " 23: 0.017613636363636363,\n",
       " 24: 0.0022095959595959595,\n",
       " 25: 0.0038404882154882154,\n",
       " 26: 0.0,\n",
       " 27: 0.02233345358345358,\n",
       " 28: 0.0017947330447330447,\n",
       " 29: 0.0029220779220779218,\n",
       " 30: 0.014411976911976909,\n",
       " 31: 0.13827561327561325,\n",
       " 32: 0.145247113997114,\n",
       " 33: 0.30407497594997596}"
      ]
     },
     "execution_count": 97,
     "metadata": {},
     "output_type": "execute_result"
    }
   ],
   "source": [
    "nx.betweenness_centrality(G)"
   ]
  },
  {
   "cell_type": "markdown",
   "metadata": {
    "deletable": true,
    "editable": true
   },
   "source": [
    "# 7. Estudia el prestigio en la red mediante PageRank. (1 punto)"
   ]
  },
  {
   "cell_type": "code",
   "execution_count": 101,
   "metadata": {
    "collapsed": false,
    "deletable": true,
    "editable": true
   },
   "outputs": [
    {
     "data": {
      "text/plain": [
       "{0: 0.09700181758983709,\n",
       " 1: 0.05287839103742701,\n",
       " 2: 0.057078423047636745,\n",
       " 3: 0.03586064322306479,\n",
       " 4: 0.021979406974834498,\n",
       " 5: 0.02911334166344221,\n",
       " 6: 0.02911334166344221,\n",
       " 7: 0.024490758039509182,\n",
       " 8: 0.029765339186167028,\n",
       " 9: 0.014308950284462801,\n",
       " 10: 0.021979406974834498,\n",
       " 11: 0.009564916863537148,\n",
       " 12: 0.014645186487916191,\n",
       " 13: 0.029536314977202986,\n",
       " 14: 0.014535161524273825,\n",
       " 15: 0.014535161524273825,\n",
       " 16: 0.016785378110253487,\n",
       " 17: 0.014558859774243493,\n",
       " 18: 0.014535161524273825,\n",
       " 19: 0.019604416711937293,\n",
       " 20: 0.014535161524273825,\n",
       " 21: 0.014558859774243493,\n",
       " 22: 0.014535161524273825,\n",
       " 23: 0.03152091531163228,\n",
       " 24: 0.021075455001162945,\n",
       " 25: 0.021005628174745786,\n",
       " 26: 0.015043395360629753,\n",
       " 27: 0.025638803528350497,\n",
       " 28: 0.01957296050943854,\n",
       " 29: 0.02628726283711208,\n",
       " 30: 0.02458933653429248,\n",
       " 31: 0.03715663592267942,\n",
       " 32: 0.07169213006588289,\n",
       " 33: 0.1009179167487121}"
      ]
     },
     "execution_count": 101,
     "metadata": {},
     "output_type": "execute_result"
    }
   ],
   "source": [
    "nx.pagerank(G)"
   ]
  },
  {
   "cell_type": "markdown",
   "metadata": {
    "deletable": true,
    "editable": true
   },
   "source": [
    "# 8. Obtén el coeficiente de agrupamiento medio y el número de triángulos completos (1 punto)"
   ]
  },
  {
   "cell_type": "code",
   "execution_count": 103,
   "metadata": {
    "collapsed": false,
    "deletable": true,
    "editable": true
   },
   "outputs": [
    {
     "data": {
      "text/plain": [
       "0.5706384782076823"
      ]
     },
     "execution_count": 103,
     "metadata": {},
     "output_type": "execute_result"
    }
   ],
   "source": [
    "nx.average_clustering(G)"
   ]
  },
  {
   "cell_type": "code",
   "execution_count": 102,
   "metadata": {
    "collapsed": false,
    "deletable": true,
    "editable": true
   },
   "outputs": [
    {
     "data": {
      "text/plain": [
       "{0: 18,\n",
       " 1: 12,\n",
       " 2: 11,\n",
       " 3: 10,\n",
       " 4: 2,\n",
       " 5: 3,\n",
       " 6: 3,\n",
       " 7: 6,\n",
       " 8: 5,\n",
       " 9: 0,\n",
       " 10: 2,\n",
       " 11: 0,\n",
       " 12: 1,\n",
       " 13: 6,\n",
       " 14: 1,\n",
       " 15: 1,\n",
       " 16: 1,\n",
       " 17: 1,\n",
       " 18: 1,\n",
       " 19: 1,\n",
       " 20: 1,\n",
       " 21: 1,\n",
       " 22: 1,\n",
       " 23: 4,\n",
       " 24: 1,\n",
       " 25: 1,\n",
       " 26: 1,\n",
       " 27: 1,\n",
       " 28: 1,\n",
       " 29: 4,\n",
       " 30: 3,\n",
       " 31: 3,\n",
       " 32: 13,\n",
       " 33: 15}"
      ]
     },
     "execution_count": 102,
     "metadata": {},
     "output_type": "execute_result"
    }
   ],
   "source": [
    "nx.triangles(G)"
   ]
  },
  {
   "cell_type": "markdown",
   "metadata": {
    "deletable": true,
    "editable": true
   },
   "source": [
    "# 9. Obtén las comunidades según el algoritmo de Girvan-Newmann (1 punto)"
   ]
  },
  {
   "cell_type": "code",
   "execution_count": 104,
   "metadata": {
    "collapsed": false,
    "deletable": true,
    "editable": true
   },
   "outputs": [
    {
     "data": {
      "text/plain": [
       "([0, 1, 3, 4, 5, 6, 7, 10, 11, 12, 13, 16, 17, 19, 21],\n",
       " [2, 8, 9, 14, 15, 18, 20, 22, 23, 24, 25, 26, 27, 28, 29, 30, 31, 32, 33])"
      ]
     },
     "execution_count": 104,
     "metadata": {},
     "output_type": "execute_result"
    }
   ],
   "source": [
    "import networkx as nx\n",
    "from networkx.algorithms import community\n",
    "\n",
    "comp = community.girvan_newman(G)\n",
    "tuple(sorted(c) for c in next(comp))"
   ]
  },
  {
   "cell_type": "markdown",
   "metadata": {
    "deletable": true,
    "editable": true
   },
   "source": [
    "# 10. Interpreta la información obtenida en cada una de las medidas de las preguntas 6, 7, 8 y 9. Es importante que relaciones todos los conceptos entre ellos y que, mediante el análisis, extraigas conclusiones sobre los individuos más influyentes, los candidatos a intermediarios y las comunidades que se forman. También puedes compararlo con los resultados de Zachary. (1 punto)"
   ]
  },
  {
   "cell_type": "markdown",
   "metadata": {
    "deletable": true,
    "editable": true
   },
   "source": [
    "**Respuesta:**\n",
    "(Escribe aquí)\n"
   ]
  },
  {
   "cell_type": "code",
   "execution_count": null,
   "metadata": {
    "collapsed": true,
    "deletable": true,
    "editable": true
   },
   "outputs": [],
   "source": [
    "# Betweness: Los nodos principales(el 0 y el 33) tienen ademas la centralidad de intermedación más alta, lo que significa que son\n",
    "# la conexión principal entre muchos de los demás nodos.\n",
    "# También vemos bastantes nodos con una centralidad de intermediación 0 lo que nos dice que hay individuos que no conectan individuos\n",
    "# entre sí.\n",
    "# Para la centralidad de cercanía tenemos unos valores altos para casi todos \n",
    "# los nodos aunque sigan destacando nuestro instructor y el administrador, lo que significa que las distancias entre nuestros nodos\n",
    "# no son grandes en general.\n",
    "# Cuando estudiamos el prestigio de la red observamos también que nuestros nodos principales son los más importantes:\n",
    "# tienen un pagerank mas alto es decir es mayor la cantidad y la \"calidad\" de los enlaces que apuntan hacia ellos.\n",
    "# Existe un gran número de triangulos lo que significaría además que para cada par de nodos, un tercero suele tener conexión \n",
    "# con ambos.\n",
    "# Todos los nodos tienen conexión prácticamente directa con el instructor o el administrador: de ahí la formación de 2 comunidades\n",
    "# cada una formada alrededor de alguno de estos 2 nodos. Además nuestros nodos tienden a agruparse por comunidades(tenemos \n",
    "# un coeficiente de agrupación media relativamente alto).\n",
    "# Tenemos otros nodos candidatos a intermediarios gracias a este análisis que podrían ser los nodos 2,31 y 32.\n"
   ]
  },
  {
   "cell_type": "code",
   "execution_count": 1,
   "metadata": {
    "collapsed": false
   },
   "outputs": [
    {
     "ename": "NameError",
     "evalue": "name 'nx' is not defined",
     "output_type": "error",
     "traceback": [
      "\u001b[1;31m---------------------------------------------------------------------------\u001b[0m",
      "\u001b[1;31mNameError\u001b[0m                                 Traceback (most recent call last)",
      "\u001b[1;32m<ipython-input-1-43e3d92482a0>\u001b[0m in \u001b[0;36m<module>\u001b[1;34m()\u001b[0m\n\u001b[1;32m----> 1\u001b[1;33m \u001b[0mnx\u001b[0m\u001b[1;33m.\u001b[0m\u001b[0mwrite_gexf\u001b[0m\u001b[1;33m(\u001b[0m\u001b[0mk\u001b[0m\u001b[1;33m,\u001b[0m\u001b[1;34m\"file.gexf\"\u001b[0m\u001b[1;33m)\u001b[0m\u001b[1;33m\u001b[0m\u001b[0m\n\u001b[0m",
      "\u001b[1;31mNameError\u001b[0m: name 'nx' is not defined"
     ]
    }
   ],
   "source": []
  },
  {
   "cell_type": "code",
   "execution_count": null,
   "metadata": {
    "collapsed": true
   },
   "outputs": [],
   "source": []
  }
 ],
 "metadata": {
  "kernelspec": {
   "display_name": "Python 3",
   "language": "python",
   "name": "python3"
  },
  "language_info": {
   "codemirror_mode": {
    "name": "ipython",
    "version": 3
   },
   "file_extension": ".py",
   "mimetype": "text/x-python",
   "name": "python",
   "nbconvert_exporter": "python",
   "pygments_lexer": "ipython3",
   "version": "3.5.2"
  },
  "varInspector": {
   "cols": {
    "lenName": 16,
    "lenType": 16,
    "lenVar": 40
   },
   "kernels_config": {
    "python": {
     "delete_cmd_postfix": "",
     "delete_cmd_prefix": "del ",
     "library": "var_list.py",
     "varRefreshCmd": "print(var_dic_list())"
    },
    "r": {
     "delete_cmd_postfix": ") ",
     "delete_cmd_prefix": "rm(",
     "library": "var_list.r",
     "varRefreshCmd": "cat(var_dic_list()) "
    }
   },
   "types_to_exclude": [
    "module",
    "function",
    "builtin_function_or_method",
    "instance",
    "_Feature"
   ],
   "window_display": false
  }
 },
 "nbformat": 4,
 "nbformat_minor": 2
}
